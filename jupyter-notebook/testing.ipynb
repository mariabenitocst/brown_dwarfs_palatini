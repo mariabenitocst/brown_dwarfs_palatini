{
 "cells": [
  {
   "cell_type": "code",
   "execution_count": 4,
   "metadata": {},
   "outputs": [],
   "source": [
    "import numpy as np\n",
    "import matplotlib.pyplot as plt\n",
    "from astropy.constants import k_B\n",
    "from mpmath import polylog\n",
    "%matplotlib inline"
   ]
  },
  {
   "cell_type": "code",
   "execution_count": 6,
   "metadata": {},
   "outputs": [],
   "source": [
    "#TODO check units of mu_e\n",
    "def b(xi, T, mu):\n",
    "    \"\"\"\n",
    "    Return parameter b\n",
    "    \n",
    "    Input\n",
    "    -----\n",
    "        xi : double\n",
    "            degeneracy parameter [adimensional]\n",
    "        T  : double\n",
    "            core temperature?? -- the values in table 1 of Auddy does not look as Tc\n",
    "        mu : double\n",
    "            chemical potential [J] = mu_e --> mu_e is adimensional? -- CHECK\n",
    "    \"\"\"\n",
    "    # return\n",
    "    return (-5./16.*xi*np.log(1+np.exp(-mu/k_B/T)) + \n",
    "            15./8.*xi*xi*(np.pi**2/3. + polylog(2, -np.exp(-1/xi))))"
   ]
  },
  {
   "cell_type": "code",
   "execution_count": null,
   "metadata": {
    "collapsed": true
   },
   "outputs": [],
   "source": []
  }
 ],
 "metadata": {
  "kernelspec": {
   "display_name": "Python 3",
   "language": "python",
   "name": "python3"
  },
  "language_info": {
   "codemirror_mode": {
    "name": "ipython",
    "version": 3
   },
   "file_extension": ".py",
   "mimetype": "text/x-python",
   "name": "python",
   "nbconvert_exporter": "python",
   "pygments_lexer": "ipython3",
   "version": "3.6.1"
  }
 },
 "nbformat": 4,
 "nbformat_minor": 2
}
