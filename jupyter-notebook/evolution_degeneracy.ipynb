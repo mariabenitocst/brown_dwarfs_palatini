{
 "cells": [
  {
   "cell_type": "markdown",
   "metadata": {},
   "source": [
    "## This notebook plots results for the evolution of the degeneracy parameter $\\psi$ wrt time"
   ]
  },
  {
   "cell_type": "code",
   "execution_count": 15,
   "metadata": {},
   "outputs": [],
   "source": [
    "import numpy as np\n",
    "import matplotlib.pyplot as plt\n",
    "from matplotlib.offsetbox import AnchoredText\n",
    "%matplotlib inline\n",
    "\n",
    "from matplotlib import rc\n",
    "rc('font', family='baskerville', size=22.)\n",
    "rc('text', usetex=True)"
   ]
  },
  {
   "cell_type": "code",
   "execution_count": 21,
   "metadata": {},
   "outputs": [],
   "source": [
    "# import data\n",
    "alpha = 0.006\n",
    "data  = np.genfromtxt(\"../data/evolution_degeneracy_alpha=\"+str(alpha)+\".dat\", unpack=True)\n",
    "time  = data[0]\n",
    "psi   = data[1]"
   ]
  },
  {
   "cell_type": "code",
   "execution_count": 18,
   "metadata": {},
   "outputs": [
    {
     "data": {
      "image/png": "[encoded data removed]",
      "text/plain": [
       "<Figure size 504x360 with 1 Axes>"
      ]
     },
     "metadata": {
      "needs_background": "light"
     },
     "output_type": "display_data"
    }
   ],
   "source": [
    "fig, ax = plt.subplots(1, 1, figsize=(7, 5))\n",
    "\n",
    "ax.plot(time, psi, lw=2.5, color=\"blue\")\n",
    "\n",
    "text_box = AnchoredText(\"Model D\", frameon=False, loc=2, pad=0.01)\n",
    "plt.setp(text_box.patch, facecolor=\"white\")\n",
    "ax.add_artist(text_box)\n",
    "\n",
    "#ax.grid(ls='--', alpha=0.5, which=\"both\") # plot grid\n",
    "#for axis in ['top','bottom','left','right']: # change linesize of borders - aesthetics\n",
    "#    ax.spines[axis].set_linewidth(1.5)\n",
    "                        \n",
    "ax.set_ylabel(r\"$\\Psi$\")\n",
    "ax.set_xlabel(\"t [years]\")\n",
    "ax.set_xscale(\"log\")"
   ]
  },
  {
   "cell_type": "code",
   "execution_count": null,
   "metadata": {},
   "outputs": [],
   "source": []
  }
 ],
 "metadata": {
  "kernelspec": {
   "display_name": "Python 3",
   "language": "python",
   "name": "python3"
  },
  "language_info": {
   "codemirror_mode": {
    "name": "ipython",
    "version": 3
   },
   "file_extension": ".py",
   "mimetype": "text/x-python",
   "name": "python",
   "nbconvert_exporter": "python",
   "pygments_lexer": "ipython3",
   "version": "3.8.3"
  }
 },
 "nbformat": 4,
 "nbformat_minor": 4
}
